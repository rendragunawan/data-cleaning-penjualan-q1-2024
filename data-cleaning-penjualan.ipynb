{
 "cells": [
  {
   "cell_type": "code",
   "execution_count": 1,
   "id": "c9e9dddf",
   "metadata": {},
   "outputs": [],
   "source": [
    "import pandas as pd\n",
    "import numpy as np"
   ]
  },
  {
   "cell_type": "code",
   "execution_count": 2,
   "id": "238a7a38",
   "metadata": {},
   "outputs": [
    {
     "data": {
      "text/html": [
       "<div>\n",
       "<style scoped>\n",
       "    .dataframe tbody tr th:only-of-type {\n",
       "        vertical-align: middle;\n",
       "    }\n",
       "\n",
       "    .dataframe tbody tr th {\n",
       "        vertical-align: top;\n",
       "    }\n",
       "\n",
       "    .dataframe thead th {\n",
       "        text-align: right;\n",
       "    }\n",
       "</style>\n",
       "<table border=\"1\" class=\"dataframe\">\n",
       "  <thead>\n",
       "    <tr style=\"text-align: right;\">\n",
       "      <th></th>\n",
       "      <th>Tanggal Transaksi</th>\n",
       "      <th>Nama Produk</th>\n",
       "      <th>Kategori</th>\n",
       "      <th>Jumlah</th>\n",
       "      <th>Harga Satuan</th>\n",
       "    </tr>\n",
       "  </thead>\n",
       "  <tbody>\n",
       "    <tr>\n",
       "      <th>0</th>\n",
       "      <td>21-03-2024</td>\n",
       "      <td>kaos</td>\n",
       "      <td>Pakaian</td>\n",
       "      <td>2.0</td>\n",
       "      <td>100000.0</td>\n",
       "    </tr>\n",
       "    <tr>\n",
       "      <th>1</th>\n",
       "      <td>2024/01/21</td>\n",
       "      <td>SEPATU</td>\n",
       "      <td>Alas Kaki</td>\n",
       "      <td>NaN</td>\n",
       "      <td>50000.0</td>\n",
       "    </tr>\n",
       "    <tr>\n",
       "      <th>2</th>\n",
       "      <td>26-01-2024</td>\n",
       "      <td>Celana</td>\n",
       "      <td>Pakaian</td>\n",
       "      <td>NaN</td>\n",
       "      <td>NaN</td>\n",
       "    </tr>\n",
       "    <tr>\n",
       "      <th>3</th>\n",
       "      <td>Feb 22 2024</td>\n",
       "      <td>Tas</td>\n",
       "      <td>Aksesori</td>\n",
       "      <td>NaN</td>\n",
       "      <td>50000.0</td>\n",
       "    </tr>\n",
       "    <tr>\n",
       "      <th>4</th>\n",
       "      <td>2024/01/03</td>\n",
       "      <td>SEPATU</td>\n",
       "      <td>Alas Kaki</td>\n",
       "      <td>0.0</td>\n",
       "      <td>50000.0</td>\n",
       "    </tr>\n",
       "  </tbody>\n",
       "</table>\n",
       "</div>"
      ],
      "text/plain": [
       "  Tanggal Transaksi Nama Produk   Kategori  Jumlah  Harga Satuan\n",
       "0        21-03-2024        kaos    Pakaian     2.0      100000.0\n",
       "1        2024/01/21      SEPATU  Alas Kaki     NaN       50000.0\n",
       "2        26-01-2024      Celana    Pakaian     NaN           NaN\n",
       "3       Feb 22 2024         Tas   Aksesori     NaN       50000.0\n",
       "4        2024/01/03      SEPATU  Alas Kaki     0.0       50000.0"
      ]
     },
     "execution_count": 2,
     "metadata": {},
     "output_type": "execute_result"
    }
   ],
   "source": [
    "# 📥 Baca Dataset\n",
    "df = pd.read_csv('dataset_penjualan_kotor_1.csv')\n",
    "df.head()"
   ]
  },
  {
   "cell_type": "code",
   "execution_count": 3,
   "id": "2393eccd",
   "metadata": {},
   "outputs": [
    {
     "name": "stdout",
     "output_type": "stream",
     "text": [
      "<class 'pandas.core.frame.DataFrame'>\n",
      "RangeIndex: 160 entries, 0 to 159\n",
      "Data columns (total 5 columns):\n",
      " #   Column             Non-Null Count  Dtype  \n",
      "---  ------             --------------  -----  \n",
      " 0   Tanggal Transaksi  160 non-null    object \n",
      " 1   Nama Produk        160 non-null    object \n",
      " 2   Kategori           160 non-null    object \n",
      " 3   Jumlah             121 non-null    float64\n",
      " 4   Harga Satuan       120 non-null    float64\n",
      "dtypes: float64(2), object(3)\n",
      "memory usage: 6.4+ KB\n"
     ]
    },
    {
     "data": {
      "text/plain": [
       "Tanggal Transaksi     0\n",
       "Nama Produk           0\n",
       "Kategori              0\n",
       "Jumlah               39\n",
       "Harga Satuan         40\n",
       "dtype: int64"
      ]
     },
     "execution_count": 3,
     "metadata": {},
     "output_type": "execute_result"
    }
   ],
   "source": [
    "# 🔍 Cek Nilai Kosong dan Informasi Awal\n",
    "df.info()\n",
    "df.isnull().sum()"
   ]
  },
  {
   "cell_type": "code",
   "execution_count": 5,
   "id": "fea2c80a",
   "metadata": {},
   "outputs": [
    {
     "data": {
      "text/plain": [
       "array(['21-03-2024', '2024/01/21', '26-01-2024', 'Feb 22 2024',\n",
       "       '2024/01/03', '2024/03/23', '2024/02/09', '2024/03/13',\n",
       "       'Mar 27 2024', '2024/02/08'], dtype=object)"
      ]
     },
     "execution_count": 5,
     "metadata": {},
     "output_type": "execute_result"
    }
   ],
   "source": [
    "# 🔠 Cek Nilai Unik\n",
    "df['Nama Produk'].unique()\n",
    "df['Tanggal Transaksi'].unique()[:10]"
   ]
  },
  {
   "cell_type": "code",
   "execution_count": 6,
   "id": "34bf1f3c",
   "metadata": {},
   "outputs": [
    {
     "name": "stderr",
     "output_type": "stream",
     "text": [
      "C:\\Users\\user\\AppData\\Local\\Temp\\ipykernel_5872\\2932356753.py:3: UserWarning: Parsing dates in DD/MM/YYYY format when dayfirst=False (the default) was specified. This may lead to inconsistently parsed dates! Specify a format to ensure consistent parsing.\n",
      "  df['Tanggal Transaksi'] = pd.to_datetime(df['Tanggal Transaksi'], errors='coerce')\n"
     ]
    },
    {
     "data": {
      "text/plain": [
       "0"
      ]
     },
     "execution_count": 6,
     "metadata": {},
     "output_type": "execute_result"
    }
   ],
   "source": [
    "## 🧹 Data Cleaning \n",
    "# Coba parsing tanggal ke format YYYY-MM-DD\n",
    "df['Tanggal Transaksi'] = pd.to_datetime(df['Tanggal Transaksi'], errors='coerce')\n",
    "\n",
    "# Cek apakah ada yang gagal di-convert (hasilnya jadi NaT)\n",
    "df['Tanggal Transaksi'].isnull().sum()\n"
   ]
  },
  {
   "cell_type": "code",
   "execution_count": 7,
   "id": "12c721df",
   "metadata": {},
   "outputs": [
    {
     "data": {
      "text/plain": [
       "array(['kaos', 'sepatu', 'celana', 'tas', 'kemeja', 'topi'], dtype=object)"
      ]
     },
     "execution_count": 7,
     "metadata": {},
     "output_type": "execute_result"
    }
   ],
   "source": [
    "# Ubah semua ke huruf kecil\n",
    "df['Nama Produk'] = df['Nama Produk'].str.lower()\n",
    "\n",
    "# Lihat nilai unik setelah diseragamkan\n",
    "df['Nama Produk'].unique()\n"
   ]
  },
  {
   "cell_type": "code",
   "execution_count": 8,
   "id": "108331c3",
   "metadata": {},
   "outputs": [
    {
     "data": {
      "text/plain": [
       "(149, 5)"
      ]
     },
     "execution_count": 8,
     "metadata": {},
     "output_type": "execute_result"
    }
   ],
   "source": [
    "# Hapus baris yang identik\n",
    "df = df.drop_duplicates()\n",
    "\n",
    "# Cek ukuran data sekarang\n",
    "df.shape\n"
   ]
  },
  {
   "cell_type": "code",
   "execution_count": 11,
   "id": "c07d3ccf",
   "metadata": {},
   "outputs": [],
   "source": [
    "# Ganti NaN di Jumlah dan Harga Satuan dengan 0\n",
    "df['Jumlah'] = pd.to_numeric(df['Jumlah'], errors='coerce').fillna(0).astype(int)\n",
    "df['Harga Satuan'] = pd.to_numeric(df['Harga Satuan'], errors='coerce').fillna(0).astype(int)\n"
   ]
  },
  {
   "cell_type": "code",
   "execution_count": 12,
   "id": "3fe69d70",
   "metadata": {},
   "outputs": [],
   "source": [
    "# Simpan ke file CSV baru\n",
    "df.to_csv(\"dataset_penjualan_bersih.csv\", index=False)\n"
   ]
  },
  {
   "cell_type": "code",
   "execution_count": 13,
   "id": "24978dd2",
   "metadata": {},
   "outputs": [
    {
     "name": "stdout",
     "output_type": "stream",
     "text": [
      "    Tanggal Transaksi Nama Produk   Kategori  Jumlah  Harga Satuan\n",
      "0          2024-03-21        kaos    Pakaian       2        100000\n",
      "1          2024-01-21      sepatu  Alas Kaki       0         50000\n",
      "2          2024-01-26      celana    Pakaian       0             0\n",
      "3          2024-02-22         tas   Aksesori       0         50000\n",
      "4          2024-01-03      sepatu  Alas Kaki       0         50000\n",
      "..                ...         ...        ...     ...           ...\n",
      "145        2024-01-03      sepatu  Alas Kaki       5        150000\n",
      "146        2024-01-13      celana    Pakaian       5         50000\n",
      "147        2024-03-29      sepatu  Alas Kaki       0        150000\n",
      "148        2024-02-05      kemeja    Pakaian       2         50000\n",
      "149        2024-01-16      sepatu  Alas Kaki       3        100000\n",
      "\n",
      "[149 rows x 5 columns]\n"
     ]
    }
   ],
   "source": [
    "print(df)"
   ]
  },
  {
   "cell_type": "code",
   "execution_count": null,
   "id": "07b168b6",
   "metadata": {},
   "outputs": [],
   "source": []
  }
 ],
 "metadata": {
  "kernelspec": {
   "display_name": "Python 3 (ipykernel)",
   "language": "python",
   "name": "python3"
  },
  "language_info": {
   "codemirror_mode": {
    "name": "ipython",
    "version": 3
   },
   "file_extension": ".py",
   "mimetype": "text/x-python",
   "name": "python",
   "nbconvert_exporter": "python",
   "pygments_lexer": "ipython3",
   "version": "3.10.9"
  }
 },
 "nbformat": 4,
 "nbformat_minor": 5
}
